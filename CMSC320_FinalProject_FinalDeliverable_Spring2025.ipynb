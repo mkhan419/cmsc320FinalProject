{
 "cells": [
  {
   "cell_type": "markdown",
   "id": "14cec2e6",
   "metadata": {},
   "source": [
    "# <center>**Predicting Crime: Uncovering Crime Patterns with Data Science**</center>\n",
    "### <center>***By Jarred De Azevedo, Misha Khan, Kenneth Swindell, Chethan Agarwal, David Bond, Carson Hagman***</center>"
   ]
  },
  {
   "cell_type": "markdown",
   "id": "0e253e66",
   "metadata": {},
   "source": [
    "#### Contributions: \n",
    "\n",
    "A: Header with contributions and Introduction - Jarred\n",
    "\n",
    "B: Dataset Curation and Preprocessing - Misha\n",
    "\n",
    "C: Data Exploration and Summary Statistics - Kenneth\n",
    "\n",
    "D: ML Algorithm Design/Development, Training and Test Data Analysis - Chethan\n",
    "\n",
    "E: Visualization - David \n",
    "\n",
    "F: Result Analysis and Conclusion - Carson"
   ]
  },
  {
   "cell_type": "markdown",
   "id": "bb16cfa2",
   "metadata": {},
   "source": [
    "### <center>Introduction</center>"
   ]
  },
  {
   "cell_type": "markdown",
   "id": "f0705dbd",
   "metadata": {},
   "source": [
    "Understanding crime patterns is a crucial step toward building safer, more equitable communities. In this tutorial, we explore how data science can be used to analyze crime and policing data to uncover meaningful trends and inform public policy. Our project centers around two key questions: \"Can historical crime trends help predict future criminal activity?\" and \"Are certain geographic areas more prone to specific types of crime?\".\n",
    "\n",
    "These questions are important because by answering them, we can contribute to a data-driven approach to public safety - one that goes beyond anecdotal evidence and offers insights grounded in empirical analysis; predictive models can help law enforcement allocate resources more efficiently, while geographic patterns of crime can inform urban planning and community intervention programs. At the same time, critically analyzing policing data allows us to consider potential biases and systemic issues in law enforcement practices.\n",
    "\n",
    "Through the full data science pipeline: acquiring and curating data, parsing the data into a queryable format, exploratory data analysis, hypothesis testing and machine learning, and explaining the results with words and visualizations, we will guide readers step-by-step through how we approached this real-world problem. Our goal is to not only generate insights from the data but also provide a clear, reproducible framework for others to do the same."
   ]
  },
  {
   "cell_type": "markdown",
   "id": "5df6b115",
   "metadata": {},
   "source": [
    "### <center>Data Curation and Preprocessing</center>"
   ]
  },
  {
   "cell_type": "code",
   "execution_count": null,
   "id": "33b433b6",
   "metadata": {},
   "outputs": [],
   "source": [
    "## Insert Code Here"
   ]
  },
  {
   "cell_type": "markdown",
   "id": "d9a06e1d",
   "metadata": {},
   "source": [
    "### <center>Data Exploration and Summary Statistics</center>"
   ]
  },
  {
   "cell_type": "code",
   "execution_count": null,
   "id": "b32065aa",
   "metadata": {},
   "outputs": [],
   "source": [
    "## Insert Code Here"
   ]
  },
  {
   "cell_type": "markdown",
   "id": "38107f7a",
   "metadata": {},
   "source": [
    "### <center>ML Algorithm Design/Development, Training and Test Data Analysis</center>"
   ]
  },
  {
   "cell_type": "code",
   "execution_count": null,
   "id": "c7ed3f2e",
   "metadata": {},
   "outputs": [],
   "source": [
    "## Insert Code Here"
   ]
  },
  {
   "cell_type": "markdown",
   "id": "fbf443d5",
   "metadata": {},
   "source": [
    "### <center>Visualization</center>"
   ]
  },
  {
   "cell_type": "code",
   "execution_count": null,
   "id": "300bad7f",
   "metadata": {},
   "outputs": [],
   "source": [
    "## Insert Code Here"
   ]
  },
  {
   "cell_type": "markdown",
   "id": "6cb89bb4",
   "metadata": {},
   "source": [
    "### <center>Result Analysis and Conclusion</center>"
   ]
  },
  {
   "cell_type": "markdown",
   "id": "a479d48e",
   "metadata": {},
   "source": [
    "Insert Text Here"
   ]
  }
 ],
 "metadata": {
  "kernelspec": {
   "display_name": "Python 3",
   "language": "python",
   "name": "python3"
  },
  "language_info": {
   "name": "python",
   "version": "3.10.12"
  }
 },
 "nbformat": 4,
 "nbformat_minor": 5
}
