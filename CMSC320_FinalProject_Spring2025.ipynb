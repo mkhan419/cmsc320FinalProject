{
 "cells": [
  {
   "cell_type": "markdown",
   "metadata": {},
   "source": [
    "# **FINAL PROJECT CHECKPOINT 2**\n",
    "## **DUE: *April 01, 2025 @ 11:59 PM***\n",
    "## **24-HR LATE DUE DATE WITH A 15% PENALTY: *April 02, 2025 @ 11:59 PM***"
   ]
  },
  {
   "cell_type": "markdown",
   "metadata": {},
   "source": [
    "### (5 points) Data preprocessing:\n",
    "(a) import\n",
    "(b) parse (e.g., convert strings to ints)\n",
    "(c) organize (e.g., set up a database or a pandas DataFrame)"
   ]
  },
  {
   "cell_type": "code",
   "execution_count": 3,
   "metadata": {},
   "outputs": [
    {
     "ename": "ModuleNotFoundError",
     "evalue": "No module named 'matplotlib'",
     "output_type": "error",
     "traceback": [
      "\u001b[0;31m---------------------------------------------------------------------------\u001b[0m",
      "\u001b[0;31mModuleNotFoundError\u001b[0m                       Traceback (most recent call last)",
      "Cell \u001b[0;32mIn[3], line 2\u001b[0m\n\u001b[1;32m      1\u001b[0m \u001b[38;5;28;01mimport\u001b[39;00m\u001b[38;5;250m \u001b[39m\u001b[38;5;21;01mpandas\u001b[39;00m\u001b[38;5;250m \u001b[39m\u001b[38;5;28;01mas\u001b[39;00m\u001b[38;5;250m \u001b[39m\u001b[38;5;21;01mpd\u001b[39;00m\n\u001b[0;32m----> 2\u001b[0m \u001b[38;5;28;01mimport\u001b[39;00m\u001b[38;5;250m \u001b[39m\u001b[38;5;21;01mmatplotlib\u001b[39;00m\u001b[38;5;21;01m.\u001b[39;00m\u001b[38;5;21;01mpyplot\u001b[39;00m\u001b[38;5;250m \u001b[39m\u001b[38;5;28;01mas\u001b[39;00m\u001b[38;5;250m \u001b[39m\u001b[38;5;21;01mplt\u001b[39;00m\n\u001b[1;32m      3\u001b[0m \u001b[38;5;28;01mimport\u001b[39;00m\u001b[38;5;250m \u001b[39m\u001b[38;5;21;01mscipy\u001b[39;00m\u001b[38;5;21;01m.\u001b[39;00m\u001b[38;5;21;01mstats\u001b[39;00m\u001b[38;5;250m \u001b[39m\u001b[38;5;28;01mas\u001b[39;00m\u001b[38;5;250m \u001b[39m\u001b[38;5;21;01mstats\u001b[39;00m\n\u001b[1;32m      5\u001b[0m df \u001b[38;5;241m=\u001b[39m pd\u001b[38;5;241m.\u001b[39mread_csv(\u001b[38;5;124m'\u001b[39m\u001b[38;5;124mNYPD_Shooting_Incident_Data__Historic_.csv\u001b[39m\u001b[38;5;124m'\u001b[39m)\n",
      "\u001b[0;31mModuleNotFoundError\u001b[0m: No module named 'matplotlib'"
     ]
    }
   ],
   "source": [
    "import pandas as pd\n",
    "import matplotlib.pyplot as plt\n",
    "import scipy.stats as stats\n",
    "\n",
    "df = pd.read_csv('NYPD_Shooting_Incident_Data__Historic_.csv')\n",
    "df.head()\n",
    "\n",
    "# Convert date columns to datetime format\n",
    "df['OCCUR_DATE'] = pd.to_datetime(df['OCCUR_DATE'], errors='coerce')\n",
    "\n",
    "df.head()"
   ]
  },
  {
   "cell_type": "markdown",
   "metadata": {},
   "source": [
    "### (20 points) Basic data exploration and summary statistics\n",
    "- You must present three conclusions using at least three different statistical methods including hypothesis testing.\n",
    "    - For example: What are the main characteristics of your dataset? How many features and entries are there? Is a feature over-represented? Are features correlated? Are there outliers? Identify the attributes that will affect your choice of primary analysis technique. Etcetera.\n",
    "\n",
    "- For each method, you must have at least one gorgeous plot."
   ]
  },
  {
   "cell_type": "code",
   "execution_count": 2,
   "metadata": {},
   "outputs": [
    {
     "ename": "NameError",
     "evalue": "name 'df' is not defined",
     "output_type": "error",
     "traceback": [
      "\u001b[0;31m---------------------------------------------------------------------------\u001b[0m",
      "\u001b[0;31mNameError\u001b[0m                                 Traceback (most recent call last)",
      "Cell \u001b[0;32mIn[2], line 6\u001b[0m\n\u001b[1;32m      1\u001b[0m \u001b[38;5;66;03m# conclusion 1: Shooting incidents are not evenly distributed across boroughs\u001b[39;00m\n\u001b[1;32m      2\u001b[0m \u001b[38;5;66;03m# statistical method: chi-squared test with a p-value of 0.05\u001b[39;00m\n\u001b[1;32m      3\u001b[0m \u001b[38;5;66;03m# H0: there is no association between the borough and the occurence of shooting incidents\u001b[39;00m\n\u001b[1;32m      4\u001b[0m \u001b[38;5;66;03m# H1: There is an association, the distribution of shooting incidents is not the same across all boroughs\u001b[39;00m\n\u001b[0;32m----> 6\u001b[0m observed \u001b[38;5;241m=\u001b[39m pd\u001b[38;5;241m.\u001b[39mcrosstab(\u001b[43mdf\u001b[49m[\u001b[38;5;124m'\u001b[39m\u001b[38;5;124mBORO\u001b[39m\u001b[38;5;124m'\u001b[39m], df[\u001b[38;5;124m'\u001b[39m\u001b[38;5;124mINCIDENT_KEY\u001b[39m\u001b[38;5;124m'\u001b[39m])\u001b[38;5;241m.\u001b[39mvalues\n\u001b[1;32m      7\u001b[0m chi2, p, dof, expected \u001b[38;5;241m=\u001b[39m stats\u001b[38;5;241m.\u001b[39mchi2_contingency(observed)\n\u001b[1;32m      9\u001b[0m \u001b[38;5;28mprint\u001b[39m(\u001b[38;5;124mf\u001b[39m\u001b[38;5;124m\"\u001b[39m\u001b[38;5;124mChi-squared statistic: \u001b[39m\u001b[38;5;132;01m{\u001b[39;00mchi2\u001b[38;5;132;01m}\u001b[39;00m\u001b[38;5;124m\"\u001b[39m)\n",
      "\u001b[0;31mNameError\u001b[0m: name 'df' is not defined"
     ]
    }
   ],
   "source": [
    "# conclusion 1: Shooting incidents are not evenly distributed across boroughs\n",
    "# statistical method: chi-squared test with a p-value of 0.05\n",
    "# H0: there is no association between the borough and the occurence of shooting incidents\n",
    "# H1: There is an association, the distribution of shooting incidents is not the same across all boroughs\n",
    "\n",
    "observed = pd.crosstab(df['BORO'], df['INCIDENT_KEY']).values\n",
    "chi2, p, dof, expected = stats.chi2_contingency(observed)\n",
    "\n",
    "print(f\"Chi-squared statistic: {chi2}\")\n",
    "print(f\"p-value: {p}\")\n",
    "\n",
    "df['BORO'].value_counts().plot(kind='bar', title='Distribution of Shooting Incididents by Borough')\n",
    "plt.xlabel('Borough')\n",
    "plt.ylabel('Number of Incidents')\n",
    "plt.show()"
   ]
  }
 ],
 "metadata": {
  "kernelspec": {
   "display_name": "Python 3",
   "language": "python",
   "name": "python3"
  },
  "language_info": {
   "codemirror_mode": {
    "name": "ipython",
    "version": 3
   },
   "file_extension": ".py",
   "mimetype": "text/x-python",
   "name": "python",
   "nbconvert_exporter": "python",
   "pygments_lexer": "ipython3",
   "version": "3.9.6"
  }
 },
 "nbformat": 4,
 "nbformat_minor": 2
}
